{
 "cells": [
  {
   "cell_type": "code",
   "execution_count": null,
   "metadata": {},
   "outputs": [],
   "source": [
    "import sys\n",
    "from pathlib import Path\n",
    "sys.path.append(str(Path.cwd().parents[0]))"
   ]
  },
  {
   "cell_type": "code",
   "execution_count": null,
   "metadata": {},
   "outputs": [],
   "source": [
    "import pyswb.science_functions.pet_hargreaves_samani as pet\n",
    "import pyswb.science_functions.runoff_curve_number as cn\n",
    "import pyswb.science_functions.actual_et_thornthwaite_mather as aet_tm"
   ]
  }
 ],
 "metadata": {
  "kernelspec": {
   "display_name": "pyclass",
   "language": "python",
   "name": "python3"
  },
  "language_info": {
   "name": "python",
   "version": "3.9.15 | packaged by conda-forge | (main, Nov 22 2022, 08:41:22) [MSC v.1929 64 bit (AMD64)]"
  },
  "orig_nbformat": 4,
  "vscode": {
   "interpreter": {
    "hash": "f56f627c4c60f28539445070c8502106decdac8a9871af2a51c29ec1f4468ecc"
   }
  }
 },
 "nbformat": 4,
 "nbformat_minor": 2
}
