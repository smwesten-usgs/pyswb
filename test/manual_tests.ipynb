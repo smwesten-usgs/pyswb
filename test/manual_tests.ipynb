{
 "cells": [
  {
   "cell_type": "code",
   "execution_count": 1,
   "metadata": {},
   "outputs": [],
   "source": [
    "import sys\n",
    "from pathlib import Path\n",
    "sys.path.append(str(Path.cwd().parents[0]))"
   ]
  },
  {
   "cell_type": "code",
   "execution_count": 2,
   "metadata": {},
   "outputs": [
    {
     "name": "stdout",
     "output_type": "stream",
     "text": [
      "In module constants sys.path[0], __package__ == e:\\projects\\enterprise_capacity\\git\\pyswb\\test pyswb\n"
     ]
    }
   ],
   "source": [
    "import pyswb.science_process.pet_hargreaves_samani as pet\n",
    "import pyswb.science_process.runoff_curve_number as cn\n",
    "import pyswb.science_process.actual_et_thornthwaite_mather as aet_tm"
   ]
  },
  {
   "cell_type": "code",
   "execution_count": 3,
   "metadata": {},
   "outputs": [
    {
     "name": "stdout",
     "output_type": "stream",
     "text": [
      "ref_ET: 1.5716054758487221\n"
     ]
    },
    {
     "data": {
      "text/plain": [
       "1.5716054758487221"
      ]
     },
     "execution_count": 3,
     "metadata": {},
     "output_type": "execute_result"
    }
   ],
   "source": [
    "pet.calculate_et0_hargreaves_samani(30, 365, 40, 20, 26, 23)"
   ]
  },
  {
   "cell_type": "code",
   "execution_count": 4,
   "metadata": {},
   "outputs": [],
   "source": [
    "S = cn.calculate_cn_S_millimeters(50)\n",
    "runoff = cn.calculate_cn_runoff(25, S)"
   ]
  },
  {
   "cell_type": "code",
   "execution_count": 11,
   "metadata": {},
   "outputs": [
    {
     "name": "stdout",
     "output_type": "stream",
     "text": [
      "sm:   115.635\n",
      "apwl: 190.000\n",
      "sm:   87.395\n",
      "apwl: 259.000\n",
      "sm:   10.335\n",
      "apwl: 20.000\n",
      "sm:   54.367\n",
      "apwl: 100.000\n"
     ]
    }
   ],
   "source": [
    "# from Thornthwaite-Mather table 30: a soil with water holding capacity of 250mm and a APWL of 190 should retain 116mm of water\n",
    "sm = aet_tm.thornthwaite_mather_soil_moisture_millimeters(250, 190)\n",
    "apwl = aet_tm.thornthwaite_mather_accumulated_potential_water_loss_millimeters(250,sm)\n",
    "print(f'sm:   {sm:.3f}')\n",
    "print(f'apwl: {apwl:.3f}')\n",
    "\n",
    "# from Thornthwaite-Mather table 30: a soil with water holding capacity of 250mm and a APWL of 259 should retain 87mm of water\n",
    "sm = aet_tm.thornthwaite_mather_soil_moisture_millimeters(250, 259)\n",
    "apwl = aet_tm.thornthwaite_mather_accumulated_potential_water_loss_millimeters(250,sm)\n",
    "print(f'sm:   {sm:.3f}')\n",
    "print(f'apwl: {apwl:.3f}')\n",
    "\n",
    "# from Thornthwaite-Mather table 23: a soil with water holding capacity of 25mm and a APWL of 20 should retain 10mm of water\n",
    "sm = aet_tm.thornthwaite_mather_soil_moisture_millimeters(25,20)\n",
    "apwl = aet_tm.thornthwaite_mather_accumulated_potential_water_loss_millimeters(25,sm)\n",
    "print(f'sm:   {sm:.3f}')\n",
    "print(f'apwl: {apwl:.3f}')\n",
    "\n",
    "# from Thornthwaite-Mather table 27: a soil with water holding capacity of 125mm and a APWL of 100 should retain 55mm of water\n",
    "sm = aet_tm.thornthwaite_mather_soil_moisture_millimeters(125,100)\n",
    "apwl = aet_tm.thornthwaite_mather_accumulated_potential_water_loss_millimeters(125,sm)\n",
    "print(f'sm:   {sm:.3f}')\n",
    "print(f'apwl: {apwl:.3f}')"
   ]
  },
  {
   "cell_type": "code",
   "execution_count": null,
   "metadata": {},
   "outputs": [],
   "source": [
    "type(runoff)"
   ]
  },
  {
   "cell_type": "code",
   "execution_count": null,
   "metadata": {},
   "outputs": [],
   "source": []
  }
 ],
 "metadata": {
  "kernelspec": {
   "display_name": "pyclass",
   "language": "python",
   "name": "python3"
  },
  "language_info": {
   "codemirror_mode": {
    "name": "ipython",
    "version": 3
   },
   "file_extension": ".py",
   "mimetype": "text/x-python",
   "name": "python",
   "nbconvert_exporter": "python",
   "pygments_lexer": "ipython3",
   "version": "3.9.15"
  },
  "orig_nbformat": 4,
  "vscode": {
   "interpreter": {
    "hash": "f56f627c4c60f28539445070c8502106decdac8a9871af2a51c29ec1f4468ecc"
   }
  }
 },
 "nbformat": 4,
 "nbformat_minor": 2
}
